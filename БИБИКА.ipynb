{
  "nbformat": 4,
  "nbformat_minor": 0,
  "metadata": {
    "colab": {
      "provenance": [],
      "collapsed_sections": [],
      "authorship_tag": "ABX9TyNkrv7HLno4j91zSerS0/mu"
    },
    "kernelspec": {
      "name": "python3",
      "display_name": "Python 3"
    },
    "language_info": {
      "name": "python"
    }
  },
  "cells": [
    {
      "cell_type": "code",
      "execution_count": 12,
      "metadata": {
        "id": "EVaVkMOq_S3H"
      },
      "outputs": [],
      "source": [
        "import pandas as pd\n",
        "import numpy as np\n",
        "import matplotlib.pyplot as plt\n",
        "from sklearn.preprocessing import OrdinalEncoder\n",
        "import seaborn as sns"
      ]
    },
    {
      "cell_type": "code",
      "source": [
        "df = pd.read_csv('auto_ru_res_test-Copy1.csv')\n",
        "df.drop(columns='url', inplace=True)"
      ],
      "metadata": {
        "id": "1ywN3ZMMAAs6"
      },
      "execution_count": 75,
      "outputs": []
    },
    {
      "cell_type": "code",
      "source": [
        "df.info()"
      ],
      "metadata": {
        "colab": {
          "base_uri": "https://localhost:8080/"
        },
        "id": "UgH9Su3yAH8c",
        "outputId": "709dbaa6-f721-41fb-ffbf-253efa0c9fca"
      },
      "execution_count": 76,
      "outputs": [
        {
          "output_type": "stream",
          "name": "stdout",
          "text": [
            "<class 'pandas.core.frame.DataFrame'>\n",
            "RangeIndex: 76089 entries, 0 to 76088\n",
            "Data columns (total 10 columns):\n",
            " #   Column           Non-Null Count  Dtype \n",
            "---  ------           --------------  ----- \n",
            " 0   car_mark         76089 non-null  object\n",
            " 1   Цена             76089 non-null  object\n",
            " 2   Год              76089 non-null  int64 \n",
            " 3   Пробег           76089 non-null  object\n",
            " 4   Двигатель        76089 non-null  object\n",
            " 5   Привод           76089 non-null  object\n",
            " 6   Кузов            76089 non-null  object\n",
            " 7   Цвет             76089 non-null  object\n",
            " 8   Коробка передач  76089 non-null  object\n",
            " 9   brand            76089 non-null  object\n",
            "dtypes: int64(1), object(9)\n",
            "memory usage: 5.8+ MB\n"
          ]
        }
      ]
    },
    {
      "cell_type": "markdown",
      "source": [
        "Начало препроцессинга"
      ],
      "metadata": {
        "id": "y6BprUuPO_hx"
      }
    },
    {
      "cell_type": "code",
      "source": [
        "s = df['Цена']\n",
        "s = s.str.replace('₽', '')\n",
        "s = s.str.replace('от ', '')\n",
        "s = s.str.replace('\\xa0', '')\n",
        "s = s.astype(int)\n",
        "df['Цена'] = s"
      ],
      "metadata": {
        "id": "LI0q8ua3AsLx"
      },
      "execution_count": 77,
      "outputs": []
    },
    {
      "cell_type": "code",
      "source": [
        "s = df['Пробег']\n",
        "s = s.str.replace('км', '')\n",
        "s = s.str.replace('\\xa0', '')\n",
        "s = s.str.replace('Новый', '0')\n",
        "s = s.astype(int)\n",
        "df['Пробег'] = s"
      ],
      "metadata": {
        "id": "Om75IH8CKcXG"
      },
      "execution_count": 78,
      "outputs": []
    },
    {
      "cell_type": "code",
      "source": [
        "# У двигателя есть объем мощность и тип\n",
        "s = df['Двигатель']\n",
        "s = pd.DataFrame(s.str.split('/', expand=True).values, columns=['Объем', 'Мощность', 'Тип'])\n",
        "s.loc[s['Объем'].str.find('л.с.') != -1 , 'Мощность'] = s.loc[s['Объем'].str.find('л.с.') != -1 ,'Объем']\n",
        "s.loc[s['Тип'].str.find('Электро') != -1 , 'Объем'] = 0\n",
        "\n",
        "s['Объем'] = s['Объем'].str.replace(' л\\u2009','').str.replace('\\xa0','').str.replace('л.с.\\u2009','')\n",
        "\n",
        "\n",
        "s['Мощность'] = s['Мощность'].str.replace('\\u2009','').str.replace('\\xa0','').str.replace('л.с.','').str.replace('кВт','')\n",
        "\n",
        "\n",
        "#types = ['\\u2009Бензин', '\\u2009Дизель', '\\u2009Электро', '\\u2009Гибрид', '\\u2009Газ']\n",
        "# ordinal_encoder = OrdinalEncoder(handle_unknown='error')\n",
        "# ordinal_encoder.fit(types)\n",
        "# ordinal_encoder.transform(s['Тип'])\n",
        "\n",
        "s['Тип'] = s['Тип'].str.replace('\\u2009','')\n",
        "\n",
        "df[s.columns] = s.values\n",
        "df['Мощность'] = df['Мощность'].astype(int)\n",
        "df['Объем'] = df['Объем'].astype(float)\n",
        "df = df.fillna(0)"
      ],
      "metadata": {
        "colab": {
          "base_uri": "https://localhost:8080/"
        },
        "id": "mxC_kzbqO6wK",
        "outputId": "0d3cf05e-4a8b-49f5-9b9a-6b7b802ea2a2"
      },
      "execution_count": 79,
      "outputs": [
        {
          "output_type": "stream",
          "name": "stderr",
          "text": [
            "/usr/local/lib/python3.7/dist-packages/ipykernel_launcher.py:7: FutureWarning: The default value of regex will change from True to False in a future version.\n",
            "  import sys\n",
            "/usr/local/lib/python3.7/dist-packages/ipykernel_launcher.py:10: FutureWarning: The default value of regex will change from True to False in a future version.\n",
            "  # Remove the CWD from sys.path while we load stuff.\n"
          ]
        }
      ]
    },
    {
      "cell_type": "code",
      "source": [
        "#ЦВЕТ В БОЛЬШОЙ ЖОПЕ\n",
        "\n",
        "df['Цвет'].value_counts().loc[ df['Цвет'].value_counts() > 500]"
      ],
      "metadata": {
        "colab": {
          "base_uri": "https://localhost:8080/"
        },
        "id": "wl8HYlEqRFWO",
        "outputId": "773fa3c5-7044-448c-f443-abffcbf3e243"
      },
      "execution_count": 80,
      "outputs": [
        {
          "output_type": "execute_result",
          "data": {
            "text/plain": [
              "чёрный         15219\n",
              "белый          11643\n",
              "серый           8634\n",
              "синий           5968\n",
              "серебристый     4922\n",
              "красный         3120\n",
              "коричневый      2586\n",
              "зелёный         1971\n",
              "бежевый         1087\n",
              "Flagship         928\n",
              "голубой          736\n",
              "жёлтый           702\n",
              "Prestige         697\n",
              "Elite            696\n",
              "Active           655\n",
              "Style            640\n",
              "Comfort          569\n",
              "Intense+         564\n",
              "Name: Цвет, dtype: int64"
            ]
          },
          "metadata": {},
          "execution_count": 80
        }
      ]
    },
    {
      "cell_type": "code",
      "source": [
        "# Коробка передач в электро показывает насколько большой заряд\n",
        "\n",
        "df['Коробка передач'].value_counts()\n",
        "#(df.loc[df['Коробка передач'].str.find('Заряд') != -1 , 'Тип']).count()"
      ],
      "metadata": {
        "colab": {
          "base_uri": "https://localhost:8080/"
        },
        "id": "R_u_5IQXSP8Y",
        "outputId": "deff8b3a-1ca3-4558-d633-9cb964e4aee2"
      },
      "execution_count": 81,
      "outputs": [
        {
          "output_type": "execute_result",
          "data": {
            "text/plain": [
              "автомат            39858\n",
              "механика           17389\n",
              "робот              10180\n",
              "вариатор            8176\n",
              "Заряд на 436 км       57\n",
              "                   ...  \n",
              "Заряд на 484 км        1\n",
              "Заряд на 593 км        1\n",
              "Заряд на 472 км        1\n",
              "Заряд на 550 км        1\n",
              "Заряд на 706 км        1\n",
              "Name: Коробка передач, Length: 73, dtype: int64"
            ]
          },
          "metadata": {},
          "execution_count": 81
        }
      ]
    },
    {
      "cell_type": "code",
      "source": [
        "# Кузов\n",
        "\n",
        "df['Кузов'].value_counts()"
      ],
      "metadata": {
        "colab": {
          "base_uri": "https://localhost:8080/"
        },
        "id": "uA2J6T1FTtLn",
        "outputId": "90985670-3de5-475d-d113-08d300367a0c"
      },
      "execution_count": 82,
      "outputs": [
        {
          "output_type": "execute_result",
          "data": {
            "text/plain": [
              "внедорожник 5 дв.          34568\n",
              "седан                      20537\n",
              "хэтчбек 5 дв.               7056\n",
              "лифтбек                     3902\n",
              "универсал 5 дв.             2776\n",
              "купе                        1500\n",
              "минивэн                     1353\n",
              "хэтчбек 3 дв.               1204\n",
              "компактвэн                  1093\n",
              "пикап двойная кабина         495\n",
              "внедорожник 3 дв.            420\n",
              "фургон                       352\n",
              "кабриолет                    271\n",
              "родстер                      128\n",
              "микровэн                     107\n",
              "внедорожник открытый          85\n",
              "седан 2 дв.                   79\n",
              "купе-хардтоп                  55\n",
              "тарга                         28\n",
              "пикап одинарная кабина        25\n",
              "фастбек                       19\n",
              "лимузин                       12\n",
              "пикап полуторная кабина        9\n",
              "хэтчбек 4 дв.                  5\n",
              "спидстер                       5\n",
              "седан-хардтоп                  4\n",
              "фаэтон                         1\n",
              "Name: Кузов, dtype: int64"
            ]
          },
          "metadata": {},
          "execution_count": 82
        }
      ]
    },
    {
      "cell_type": "code",
      "source": [
        "df.drop(df[df['Тип'] == 'Электро'].index, inplace=True)\n",
        "df.drop(columns=['Кузов', 'Двигатель','Привод'], inplace=True)\n",
        "\n",
        "\n",
        "#ПОКАЧТО\n",
        "df.drop(columns=['Коробка передач', 'Цвет'], inplace=True)"
      ],
      "metadata": {
        "id": "5VybxaUnRnv6"
      },
      "execution_count": 83,
      "outputs": []
    },
    {
      "cell_type": "code",
      "source": [
        "#Разделение на категории и чиселки\n",
        "df_numerical = df.select_dtypes(include = [np.number])\n",
        "df_categorical = df.select_dtypes(exclude = [np.number])"
      ],
      "metadata": {
        "id": "1qYo-WF4VedE"
      },
      "execution_count": 84,
      "outputs": []
    },
    {
      "cell_type": "code",
      "source": [
        "col = df_categorical.columns\n",
        "for TMP in col:\n",
        "  print(TMP, df_categorical[TMP].unique())"
      ],
      "metadata": {
        "colab": {
          "base_uri": "https://localhost:8080/"
        },
        "id": "BsNfYPOHzej0",
        "outputId": "015f73d4-d011-447a-f51d-1472cd0e94ba"
      },
      "execution_count": 105,
      "outputs": [
        {
          "output_type": "stream",
          "name": "stdout",
          "text": [
            "car_mark ['Acura MDX III' 'Acura Integra III' 'Acura RDX III' ... 'УАЗ 3153 3153'\n",
            " 'УАЗ Hunter 315143' 'УАЗ Pickup I']\n",
            "brand ['Acura' 'Alfa Romeo' 'Alpina' 'AMC' 'Asia' 'Aston Martin' 'Auburn' 'Audi'\n",
            " 'Aurus' 'Bajaj' 'Bentley' 'BMW' 'Brilliance' 'Buick' 'BYD' 'Cadillac'\n",
            " 'Changan' 'Chery' 'Chevrolet' 'Chrysler' 'Citroen' 'Dacia' 'Dadi'\n",
            " 'Daewoo' 'Daihatsu' 'Daimler' 'Datsun' 'Delage' 'Derways' 'Dodge'\n",
            " 'DongFeng' 'Eagle' 'EXEED' 'Facel Vega' 'FAW' 'Ferrari' 'Fiat' 'Ford'\n",
            " 'GAC' 'Geely' 'Genesis' 'Geo' 'GMC' 'Goggomobil' 'Great Wall' 'Hafei'\n",
            " 'Haima' 'Haval' 'Hawtai' 'Honda' 'HuangHai' 'Hummer' 'Hyundai' 'Infiniti'\n",
            " 'Iran Khodro' 'Isuzu' 'JAC' 'Jaguar' 'Jeep' 'Jinbei' 'Kia' 'LADA (ВАЗ)'\n",
            " 'Lamborghini' 'Lancia' 'Land Rover' 'Lexus' 'Lifan' 'Lincoln' 'LiXiang'\n",
            " 'Lotus' 'Maserati' 'Maybach' 'Mazda' 'McLaren' 'Mercedes-Benz' 'Mercury'\n",
            " 'MG' 'MINI' 'Mitsubishi' 'Mitsuoka' 'Morgan' 'Nissan' 'Oldsmobile' 'Opel'\n",
            " 'Packard' 'Plymouth' 'Pontiac' 'Porsche' 'Proton' 'PUCH' 'RAM' 'Ravon'\n",
            " 'Renault' 'Rolls-Royce' 'Rover' 'Saab' 'Saturn' 'Scion' 'SEAT' 'Skoda'\n",
            " 'Smart' 'SsangYong' 'Subaru' 'Suzuki' 'Tianye' 'Toyota' 'Triumph'\n",
            " 'Ultima' 'Volkswagen' 'Volvo' 'Vortex' 'Wartburg' 'Willys' 'Zibar'\n",
            " 'Zotye' 'ГАЗ' 'ЗАЗ' 'ЗИЛ' 'ЗиС' 'ИЖ' 'Комбат' 'ЛуАЗ' 'Москвич' 'СМЗ'\n",
            " 'Спортивные авто и Реплики' 'ТагАЗ' 'УАЗ']\n",
            "Тип ['Бензин' 'Дизель' 'Гибрид' 'Газ']\n"
          ]
        }
      ]
    },
    {
      "cell_type": "code",
      "source": [
        "df_numerical"
      ],
      "metadata": {
        "colab": {
          "base_uri": "https://localhost:8080/",
          "height": 424
        },
        "id": "M8_8s_bY1fno",
        "outputId": "20d6cabb-5f8d-492b-f1fa-d8a39e48fffd"
      },
      "execution_count": 107,
      "outputs": [
        {
          "output_type": "execute_result",
          "data": {
            "text/plain": [
              "          Цена   Год  Пробег  Объем  Мощность\n",
              "0      2450000  2014  219000    3.5       290\n",
              "1      1000000  1994   40000    1.8       170\n",
              "2      3190000  2019    7000    2.0       272\n",
              "3      1050000  2006  220000    3.7       300\n",
              "4      3549807  2014   90500    3.5       290\n",
              "...        ...   ...     ...    ...       ...\n",
              "76084   190000  2001  200000    2.9        84\n",
              "76085   369000  2008   77000    2.7       128\n",
              "76086   250000  2005   89000    2.9        84\n",
              "76087   950000  2019  300000    2.7       150\n",
              "76088   330000  2004  105682    2.7       128\n",
              "\n",
              "[75600 rows x 5 columns]"
            ],
            "text/html": [
              "\n",
              "  <div id=\"df-9a2f9bb7-7cfe-4be4-a2c0-4ef80ab522d2\">\n",
              "    <div class=\"colab-df-container\">\n",
              "      <div>\n",
              "<style scoped>\n",
              "    .dataframe tbody tr th:only-of-type {\n",
              "        vertical-align: middle;\n",
              "    }\n",
              "\n",
              "    .dataframe tbody tr th {\n",
              "        vertical-align: top;\n",
              "    }\n",
              "\n",
              "    .dataframe thead th {\n",
              "        text-align: right;\n",
              "    }\n",
              "</style>\n",
              "<table border=\"1\" class=\"dataframe\">\n",
              "  <thead>\n",
              "    <tr style=\"text-align: right;\">\n",
              "      <th></th>\n",
              "      <th>Цена</th>\n",
              "      <th>Год</th>\n",
              "      <th>Пробег</th>\n",
              "      <th>Объем</th>\n",
              "      <th>Мощность</th>\n",
              "    </tr>\n",
              "  </thead>\n",
              "  <tbody>\n",
              "    <tr>\n",
              "      <th>0</th>\n",
              "      <td>2450000</td>\n",
              "      <td>2014</td>\n",
              "      <td>219000</td>\n",
              "      <td>3.5</td>\n",
              "      <td>290</td>\n",
              "    </tr>\n",
              "    <tr>\n",
              "      <th>1</th>\n",
              "      <td>1000000</td>\n",
              "      <td>1994</td>\n",
              "      <td>40000</td>\n",
              "      <td>1.8</td>\n",
              "      <td>170</td>\n",
              "    </tr>\n",
              "    <tr>\n",
              "      <th>2</th>\n",
              "      <td>3190000</td>\n",
              "      <td>2019</td>\n",
              "      <td>7000</td>\n",
              "      <td>2.0</td>\n",
              "      <td>272</td>\n",
              "    </tr>\n",
              "    <tr>\n",
              "      <th>3</th>\n",
              "      <td>1050000</td>\n",
              "      <td>2006</td>\n",
              "      <td>220000</td>\n",
              "      <td>3.7</td>\n",
              "      <td>300</td>\n",
              "    </tr>\n",
              "    <tr>\n",
              "      <th>4</th>\n",
              "      <td>3549807</td>\n",
              "      <td>2014</td>\n",
              "      <td>90500</td>\n",
              "      <td>3.5</td>\n",
              "      <td>290</td>\n",
              "    </tr>\n",
              "    <tr>\n",
              "      <th>...</th>\n",
              "      <td>...</td>\n",
              "      <td>...</td>\n",
              "      <td>...</td>\n",
              "      <td>...</td>\n",
              "      <td>...</td>\n",
              "    </tr>\n",
              "    <tr>\n",
              "      <th>76084</th>\n",
              "      <td>190000</td>\n",
              "      <td>2001</td>\n",
              "      <td>200000</td>\n",
              "      <td>2.9</td>\n",
              "      <td>84</td>\n",
              "    </tr>\n",
              "    <tr>\n",
              "      <th>76085</th>\n",
              "      <td>369000</td>\n",
              "      <td>2008</td>\n",
              "      <td>77000</td>\n",
              "      <td>2.7</td>\n",
              "      <td>128</td>\n",
              "    </tr>\n",
              "    <tr>\n",
              "      <th>76086</th>\n",
              "      <td>250000</td>\n",
              "      <td>2005</td>\n",
              "      <td>89000</td>\n",
              "      <td>2.9</td>\n",
              "      <td>84</td>\n",
              "    </tr>\n",
              "    <tr>\n",
              "      <th>76087</th>\n",
              "      <td>950000</td>\n",
              "      <td>2019</td>\n",
              "      <td>300000</td>\n",
              "      <td>2.7</td>\n",
              "      <td>150</td>\n",
              "    </tr>\n",
              "    <tr>\n",
              "      <th>76088</th>\n",
              "      <td>330000</td>\n",
              "      <td>2004</td>\n",
              "      <td>105682</td>\n",
              "      <td>2.7</td>\n",
              "      <td>128</td>\n",
              "    </tr>\n",
              "  </tbody>\n",
              "</table>\n",
              "<p>75600 rows × 5 columns</p>\n",
              "</div>\n",
              "      <button class=\"colab-df-convert\" onclick=\"convertToInteractive('df-9a2f9bb7-7cfe-4be4-a2c0-4ef80ab522d2')\"\n",
              "              title=\"Convert this dataframe to an interactive table.\"\n",
              "              style=\"display:none;\">\n",
              "        \n",
              "  <svg xmlns=\"http://www.w3.org/2000/svg\" height=\"24px\"viewBox=\"0 0 24 24\"\n",
              "       width=\"24px\">\n",
              "    <path d=\"M0 0h24v24H0V0z\" fill=\"none\"/>\n",
              "    <path d=\"M18.56 5.44l.94 2.06.94-2.06 2.06-.94-2.06-.94-.94-2.06-.94 2.06-2.06.94zm-11 1L8.5 8.5l.94-2.06 2.06-.94-2.06-.94L8.5 2.5l-.94 2.06-2.06.94zm10 10l.94 2.06.94-2.06 2.06-.94-2.06-.94-.94-2.06-.94 2.06-2.06.94z\"/><path d=\"M17.41 7.96l-1.37-1.37c-.4-.4-.92-.59-1.43-.59-.52 0-1.04.2-1.43.59L10.3 9.45l-7.72 7.72c-.78.78-.78 2.05 0 2.83L4 21.41c.39.39.9.59 1.41.59.51 0 1.02-.2 1.41-.59l7.78-7.78 2.81-2.81c.8-.78.8-2.07 0-2.86zM5.41 20L4 18.59l7.72-7.72 1.47 1.35L5.41 20z\"/>\n",
              "  </svg>\n",
              "      </button>\n",
              "      \n",
              "  <style>\n",
              "    .colab-df-container {\n",
              "      display:flex;\n",
              "      flex-wrap:wrap;\n",
              "      gap: 12px;\n",
              "    }\n",
              "\n",
              "    .colab-df-convert {\n",
              "      background-color: #E8F0FE;\n",
              "      border: none;\n",
              "      border-radius: 50%;\n",
              "      cursor: pointer;\n",
              "      display: none;\n",
              "      fill: #1967D2;\n",
              "      height: 32px;\n",
              "      padding: 0 0 0 0;\n",
              "      width: 32px;\n",
              "    }\n",
              "\n",
              "    .colab-df-convert:hover {\n",
              "      background-color: #E2EBFA;\n",
              "      box-shadow: 0px 1px 2px rgba(60, 64, 67, 0.3), 0px 1px 3px 1px rgba(60, 64, 67, 0.15);\n",
              "      fill: #174EA6;\n",
              "    }\n",
              "\n",
              "    [theme=dark] .colab-df-convert {\n",
              "      background-color: #3B4455;\n",
              "      fill: #D2E3FC;\n",
              "    }\n",
              "\n",
              "    [theme=dark] .colab-df-convert:hover {\n",
              "      background-color: #434B5C;\n",
              "      box-shadow: 0px 1px 3px 1px rgba(0, 0, 0, 0.15);\n",
              "      filter: drop-shadow(0px 1px 2px rgba(0, 0, 0, 0.3));\n",
              "      fill: #FFFFFF;\n",
              "    }\n",
              "  </style>\n",
              "\n",
              "      <script>\n",
              "        const buttonEl =\n",
              "          document.querySelector('#df-9a2f9bb7-7cfe-4be4-a2c0-4ef80ab522d2 button.colab-df-convert');\n",
              "        buttonEl.style.display =\n",
              "          google.colab.kernel.accessAllowed ? 'block' : 'none';\n",
              "\n",
              "        async function convertToInteractive(key) {\n",
              "          const element = document.querySelector('#df-9a2f9bb7-7cfe-4be4-a2c0-4ef80ab522d2');\n",
              "          const dataTable =\n",
              "            await google.colab.kernel.invokeFunction('convertToInteractive',\n",
              "                                                     [key], {});\n",
              "          if (!dataTable) return;\n",
              "\n",
              "          const docLinkHtml = 'Like what you see? Visit the ' +\n",
              "            '<a target=\"_blank\" href=https://colab.research.google.com/notebooks/data_table.ipynb>data table notebook</a>'\n",
              "            + ' to learn more about interactive tables.';\n",
              "          element.innerHTML = '';\n",
              "          dataTable['output_type'] = 'display_data';\n",
              "          await google.colab.output.renderOutput(dataTable, element);\n",
              "          const docLink = document.createElement('div');\n",
              "          docLink.innerHTML = docLinkHtml;\n",
              "          element.appendChild(docLink);\n",
              "        }\n",
              "      </script>\n",
              "    </div>\n",
              "  </div>\n",
              "  "
            ]
          },
          "metadata": {},
          "execution_count": 107
        }
      ]
    },
    {
      "cell_type": "code",
      "source": [],
      "metadata": {
        "id": "2VoqN4ZF1fpp"
      },
      "execution_count": null,
      "outputs": []
    },
    {
      "cell_type": "markdown",
      "source": [
        "Анализ"
      ],
      "metadata": {
        "id": "EuKGQY5LVK_G"
      }
    },
    {
      "cell_type": "code",
      "source": [
        "pd.set_option('display.float_format', lambda x: '%.3f' % x)\n",
        "df.describe()"
      ],
      "metadata": {
        "colab": {
          "base_uri": "https://localhost:8080/",
          "height": 300
        },
        "id": "aXGUVqjjV6tA",
        "outputId": "2cea5011-f241-42c3-af92-273ba326315c"
      },
      "execution_count": null,
      "outputs": [
        {
          "output_type": "execute_result",
          "data": {
            "text/plain": [
              "               Цена       Год      Пробег     Объем  Мощность\n",
              "count     75600.000 75600.000   75600.000 75600.000 75600.000\n",
              "mean    2710196.042  2014.295   98138.403     2.190   176.769\n",
              "std     4255035.460     8.135   97393.500     0.923    92.725\n",
              "min       20000.000  1923.000       0.000     0.200     8.000\n",
              "25%      730000.000  2010.000    1700.000     1.600   117.000\n",
              "50%     1562578.500  2016.000   80199.500     2.000   150.000\n",
              "75%     2968000.000  2021.000  159853.750     2.500   200.000\n",
              "max   120000000.000  2022.000 1000000.000     8.300  1000.000"
            ],
            "text/html": [
              "\n",
              "  <div id=\"df-8f3084c9-bc68-4857-9057-55c3f99a96fc\">\n",
              "    <div class=\"colab-df-container\">\n",
              "      <div>\n",
              "<style scoped>\n",
              "    .dataframe tbody tr th:only-of-type {\n",
              "        vertical-align: middle;\n",
              "    }\n",
              "\n",
              "    .dataframe tbody tr th {\n",
              "        vertical-align: top;\n",
              "    }\n",
              "\n",
              "    .dataframe thead th {\n",
              "        text-align: right;\n",
              "    }\n",
              "</style>\n",
              "<table border=\"1\" class=\"dataframe\">\n",
              "  <thead>\n",
              "    <tr style=\"text-align: right;\">\n",
              "      <th></th>\n",
              "      <th>Цена</th>\n",
              "      <th>Год</th>\n",
              "      <th>Пробег</th>\n",
              "      <th>Объем</th>\n",
              "      <th>Мощность</th>\n",
              "    </tr>\n",
              "  </thead>\n",
              "  <tbody>\n",
              "    <tr>\n",
              "      <th>count</th>\n",
              "      <td>75600.000</td>\n",
              "      <td>75600.000</td>\n",
              "      <td>75600.000</td>\n",
              "      <td>75600.000</td>\n",
              "      <td>75600.000</td>\n",
              "    </tr>\n",
              "    <tr>\n",
              "      <th>mean</th>\n",
              "      <td>2710196.042</td>\n",
              "      <td>2014.295</td>\n",
              "      <td>98138.403</td>\n",
              "      <td>2.190</td>\n",
              "      <td>176.769</td>\n",
              "    </tr>\n",
              "    <tr>\n",
              "      <th>std</th>\n",
              "      <td>4255035.460</td>\n",
              "      <td>8.135</td>\n",
              "      <td>97393.500</td>\n",
              "      <td>0.923</td>\n",
              "      <td>92.725</td>\n",
              "    </tr>\n",
              "    <tr>\n",
              "      <th>min</th>\n",
              "      <td>20000.000</td>\n",
              "      <td>1923.000</td>\n",
              "      <td>0.000</td>\n",
              "      <td>0.200</td>\n",
              "      <td>8.000</td>\n",
              "    </tr>\n",
              "    <tr>\n",
              "      <th>25%</th>\n",
              "      <td>730000.000</td>\n",
              "      <td>2010.000</td>\n",
              "      <td>1700.000</td>\n",
              "      <td>1.600</td>\n",
              "      <td>117.000</td>\n",
              "    </tr>\n",
              "    <tr>\n",
              "      <th>50%</th>\n",
              "      <td>1562578.500</td>\n",
              "      <td>2016.000</td>\n",
              "      <td>80199.500</td>\n",
              "      <td>2.000</td>\n",
              "      <td>150.000</td>\n",
              "    </tr>\n",
              "    <tr>\n",
              "      <th>75%</th>\n",
              "      <td>2968000.000</td>\n",
              "      <td>2021.000</td>\n",
              "      <td>159853.750</td>\n",
              "      <td>2.500</td>\n",
              "      <td>200.000</td>\n",
              "    </tr>\n",
              "    <tr>\n",
              "      <th>max</th>\n",
              "      <td>120000000.000</td>\n",
              "      <td>2022.000</td>\n",
              "      <td>1000000.000</td>\n",
              "      <td>8.300</td>\n",
              "      <td>1000.000</td>\n",
              "    </tr>\n",
              "  </tbody>\n",
              "</table>\n",
              "</div>\n",
              "      <button class=\"colab-df-convert\" onclick=\"convertToInteractive('df-8f3084c9-bc68-4857-9057-55c3f99a96fc')\"\n",
              "              title=\"Convert this dataframe to an interactive table.\"\n",
              "              style=\"display:none;\">\n",
              "        \n",
              "  <svg xmlns=\"http://www.w3.org/2000/svg\" height=\"24px\"viewBox=\"0 0 24 24\"\n",
              "       width=\"24px\">\n",
              "    <path d=\"M0 0h24v24H0V0z\" fill=\"none\"/>\n",
              "    <path d=\"M18.56 5.44l.94 2.06.94-2.06 2.06-.94-2.06-.94-.94-2.06-.94 2.06-2.06.94zm-11 1L8.5 8.5l.94-2.06 2.06-.94-2.06-.94L8.5 2.5l-.94 2.06-2.06.94zm10 10l.94 2.06.94-2.06 2.06-.94-2.06-.94-.94-2.06-.94 2.06-2.06.94z\"/><path d=\"M17.41 7.96l-1.37-1.37c-.4-.4-.92-.59-1.43-.59-.52 0-1.04.2-1.43.59L10.3 9.45l-7.72 7.72c-.78.78-.78 2.05 0 2.83L4 21.41c.39.39.9.59 1.41.59.51 0 1.02-.2 1.41-.59l7.78-7.78 2.81-2.81c.8-.78.8-2.07 0-2.86zM5.41 20L4 18.59l7.72-7.72 1.47 1.35L5.41 20z\"/>\n",
              "  </svg>\n",
              "      </button>\n",
              "      \n",
              "  <style>\n",
              "    .colab-df-container {\n",
              "      display:flex;\n",
              "      flex-wrap:wrap;\n",
              "      gap: 12px;\n",
              "    }\n",
              "\n",
              "    .colab-df-convert {\n",
              "      background-color: #E8F0FE;\n",
              "      border: none;\n",
              "      border-radius: 50%;\n",
              "      cursor: pointer;\n",
              "      display: none;\n",
              "      fill: #1967D2;\n",
              "      height: 32px;\n",
              "      padding: 0 0 0 0;\n",
              "      width: 32px;\n",
              "    }\n",
              "\n",
              "    .colab-df-convert:hover {\n",
              "      background-color: #E2EBFA;\n",
              "      box-shadow: 0px 1px 2px rgba(60, 64, 67, 0.3), 0px 1px 3px 1px rgba(60, 64, 67, 0.15);\n",
              "      fill: #174EA6;\n",
              "    }\n",
              "\n",
              "    [theme=dark] .colab-df-convert {\n",
              "      background-color: #3B4455;\n",
              "      fill: #D2E3FC;\n",
              "    }\n",
              "\n",
              "    [theme=dark] .colab-df-convert:hover {\n",
              "      background-color: #434B5C;\n",
              "      box-shadow: 0px 1px 3px 1px rgba(0, 0, 0, 0.15);\n",
              "      filter: drop-shadow(0px 1px 2px rgba(0, 0, 0, 0.3));\n",
              "      fill: #FFFFFF;\n",
              "    }\n",
              "  </style>\n",
              "\n",
              "      <script>\n",
              "        const buttonEl =\n",
              "          document.querySelector('#df-8f3084c9-bc68-4857-9057-55c3f99a96fc button.colab-df-convert');\n",
              "        buttonEl.style.display =\n",
              "          google.colab.kernel.accessAllowed ? 'block' : 'none';\n",
              "\n",
              "        async function convertToInteractive(key) {\n",
              "          const element = document.querySelector('#df-8f3084c9-bc68-4857-9057-55c3f99a96fc');\n",
              "          const dataTable =\n",
              "            await google.colab.kernel.invokeFunction('convertToInteractive',\n",
              "                                                     [key], {});\n",
              "          if (!dataTable) return;\n",
              "\n",
              "          const docLinkHtml = 'Like what you see? Visit the ' +\n",
              "            '<a target=\"_blank\" href=https://colab.research.google.com/notebooks/data_table.ipynb>data table notebook</a>'\n",
              "            + ' to learn more about interactive tables.';\n",
              "          element.innerHTML = '';\n",
              "          dataTable['output_type'] = 'display_data';\n",
              "          await google.colab.output.renderOutput(dataTable, element);\n",
              "          const docLink = document.createElement('div');\n",
              "          docLink.innerHTML = docLinkHtml;\n",
              "          element.appendChild(docLink);\n",
              "        }\n",
              "      </script>\n",
              "    </div>\n",
              "  </div>\n",
              "  "
            ]
          },
          "metadata": {},
          "execution_count": 36
        }
      ]
    },
    {
      "cell_type": "code",
      "source": [
        "plt.hist(df.loc[df['Цена'] < 20000000 , 'Цена'], bins = 20)\n",
        "plt.show()\n",
        "plt.hist(df.loc[df['Цена'] > 20000000 , 'Цена'], bins = 20)\n",
        "plt.show()\n",
        "plt.hist(df['Цена'], bins = 150)\n",
        "plt.show()\n"
      ],
      "metadata": {
        "colab": {
          "base_uri": "https://localhost:8080/",
          "height": 800
        },
        "id": "MWZ7KgsPWBOQ",
        "outputId": "c36f0e47-9770-4040-b6c5-78ae3838a9de"
      },
      "execution_count": null,
      "outputs": [
        {
          "output_type": "display_data",
          "data": {
            "text/plain": [
              "<Figure size 432x288 with 1 Axes>"
            ],
            "image/png": "[encoded data removed]"
          },
          "metadata": {
            "needs_background": "light"
          }
        },
        {
          "output_type": "display_data",
          "data": {
            "text/plain": [
              "<Figure size 432x288 with 1 Axes>"
            ],
            "image/png": "[encoded data removed]"
          },
          "metadata": {
            "needs_background": "light"
          }
        },
        {
          "output_type": "display_data",
          "data": {
            "text/plain": [
              "<Figure size 432x288 with 1 Axes>"
            ],
            "image/png": "[encoded data removed]"
          },
          "metadata": {
            "needs_background": "light"
          }
        }
      ]
    },
    {
      "cell_type": "code",
      "source": [
        "plt.hist(df['Год'])\n",
        "plt.title('Год')\n",
        "plt.show()\n",
        "plt.hist(df['Пробег'])\n",
        "plt.title('Пробег')\n",
        "plt.show()\n",
        "plt.hist(df['Объем'])\n",
        "plt.title('Объем')\n",
        "plt.show()\n",
        "plt.hist(df['Мощность'])\n",
        "plt.title('Мощность')\n",
        "plt.show()"
      ],
      "metadata": {
        "colab": {
          "base_uri": "https://localhost:8080/",
          "height": 1000
        },
        "id": "L9u51SrDXiIO",
        "outputId": "abd4778e-11cd-448c-b260-6561b6c73a48"
      },
      "execution_count": null,
      "outputs": [
        {
          "output_type": "display_data",
          "data": {
            "text/plain": [
              "<Figure size 432x288 with 1 Axes>"
            ],
            "image/png": "[encoded data removed]"
          },
          "metadata": {
            "needs_background": "light"
          }
        },
        {
          "output_type": "display_data",
          "data": {
            "text/plain": [
              "<Figure size 432x288 with 1 Axes>"
            ],
            "image/png": "[encoded data removed]"
          },
          "metadata": {
            "needs_background": "light"
          }
        },
        {
          "output_type": "display_data",
          "data": {
            "text/plain": [
              "<Figure size 432x288 with 1 Axes>"
            ],
            "image/png": "[encoded data removed]"
          },
          "metadata": {
            "needs_background": "light"
          }
        },
        {
          "output_type": "display_data",
          "data": {
            "text/plain": [
              "<Figure size 432x288 with 1 Axes>"
            ],
            "image/png": "[encoded data removed]"
          },
          "metadata": {
            "needs_background": "light"
          }
        }
      ]
    },
    {
      "cell_type": "code",
      "source": [
        "sns.heatmap(df.corr(), center=0)\n",
        "df.corr() "
      ],
      "metadata": {
        "colab": {
          "base_uri": "https://localhost:8080/",
          "height": 458
        },
        "id": "2uR93ZjTd3pa",
        "outputId": "b23b7779-1209-4576-fcea-f6234ac4776e"
      },
      "execution_count": null,
      "outputs": [
        {
          "output_type": "execute_result",
          "data": {
            "text/plain": [
              "           Цена    Год  Пробег  Объем  Мощность\n",
              "Цена      1.000  0.304  -0.350  0.435     0.629\n",
              "Год       0.304  1.000  -0.617 -0.084     0.157\n",
              "Пробег   -0.350 -0.617   1.000  0.067    -0.104\n",
              "Объем     0.435 -0.084   0.067  1.000     0.820\n",
              "Мощность  0.629  0.157  -0.104  0.820     1.000"
            ],
            "text/html": [
              "\n",
              "  <div id=\"df-d994b60a-986d-453a-b3dd-405af9ae5e59\">\n",
              "    <div class=\"colab-df-container\">\n",
              "      <div>\n",
              "<style scoped>\n",
              "    .dataframe tbody tr th:only-of-type {\n",
              "        vertical-align: middle;\n",
              "    }\n",
              "\n",
              "    .dataframe tbody tr th {\n",
              "        vertical-align: top;\n",
              "    }\n",
              "\n",
              "    .dataframe thead th {\n",
              "        text-align: right;\n",
              "    }\n",
              "</style>\n",
              "<table border=\"1\" class=\"dataframe\">\n",
              "  <thead>\n",
              "    <tr style=\"text-align: right;\">\n",
              "      <th></th>\n",
              "      <th>Цена</th>\n",
              "      <th>Год</th>\n",
              "      <th>Пробег</th>\n",
              "      <th>Объем</th>\n",
              "      <th>Мощность</th>\n",
              "    </tr>\n",
              "  </thead>\n",
              "  <tbody>\n",
              "    <tr>\n",
              "      <th>Цена</th>\n",
              "      <td>1.000</td>\n",
              "      <td>0.304</td>\n",
              "      <td>-0.350</td>\n",
              "      <td>0.435</td>\n",
              "      <td>0.629</td>\n",
              "    </tr>\n",
              "    <tr>\n",
              "      <th>Год</th>\n",
              "      <td>0.304</td>\n",
              "      <td>1.000</td>\n",
              "      <td>-0.617</td>\n",
              "      <td>-0.084</td>\n",
              "      <td>0.157</td>\n",
              "    </tr>\n",
              "    <tr>\n",
              "      <th>Пробег</th>\n",
              "      <td>-0.350</td>\n",
              "      <td>-0.617</td>\n",
              "      <td>1.000</td>\n",
              "      <td>0.067</td>\n",
              "      <td>-0.104</td>\n",
              "    </tr>\n",
              "    <tr>\n",
              "      <th>Объем</th>\n",
              "      <td>0.435</td>\n",
              "      <td>-0.084</td>\n",
              "      <td>0.067</td>\n",
              "      <td>1.000</td>\n",
              "      <td>0.820</td>\n",
              "    </tr>\n",
              "    <tr>\n",
              "      <th>Мощность</th>\n",
              "      <td>0.629</td>\n",
              "      <td>0.157</td>\n",
              "      <td>-0.104</td>\n",
              "      <td>0.820</td>\n",
              "      <td>1.000</td>\n",
              "    </tr>\n",
              "  </tbody>\n",
              "</table>\n",
              "</div>\n",
              "      <button class=\"colab-df-convert\" onclick=\"convertToInteractive('df-d994b60a-986d-453a-b3dd-405af9ae5e59')\"\n",
              "              title=\"Convert this dataframe to an interactive table.\"\n",
              "              style=\"display:none;\">\n",
              "        \n",
              "  <svg xmlns=\"http://www.w3.org/2000/svg\" height=\"24px\"viewBox=\"0 0 24 24\"\n",
              "       width=\"24px\">\n",
              "    <path d=\"M0 0h24v24H0V0z\" fill=\"none\"/>\n",
              "    <path d=\"M18.56 5.44l.94 2.06.94-2.06 2.06-.94-2.06-.94-.94-2.06-.94 2.06-2.06.94zm-11 1L8.5 8.5l.94-2.06 2.06-.94-2.06-.94L8.5 2.5l-.94 2.06-2.06.94zm10 10l.94 2.06.94-2.06 2.06-.94-2.06-.94-.94-2.06-.94 2.06-2.06.94z\"/><path d=\"M17.41 7.96l-1.37-1.37c-.4-.4-.92-.59-1.43-.59-.52 0-1.04.2-1.43.59L10.3 9.45l-7.72 7.72c-.78.78-.78 2.05 0 2.83L4 21.41c.39.39.9.59 1.41.59.51 0 1.02-.2 1.41-.59l7.78-7.78 2.81-2.81c.8-.78.8-2.07 0-2.86zM5.41 20L4 18.59l7.72-7.72 1.47 1.35L5.41 20z\"/>\n",
              "  </svg>\n",
              "      </button>\n",
              "      \n",
              "  <style>\n",
              "    .colab-df-container {\n",
              "      display:flex;\n",
              "      flex-wrap:wrap;\n",
              "      gap: 12px;\n",
              "    }\n",
              "\n",
              "    .colab-df-convert {\n",
              "      background-color: #E8F0FE;\n",
              "      border: none;\n",
              "      border-radius: 50%;\n",
              "      cursor: pointer;\n",
              "      display: none;\n",
              "      fill: #1967D2;\n",
              "      height: 32px;\n",
              "      padding: 0 0 0 0;\n",
              "      width: 32px;\n",
              "    }\n",
              "\n",
              "    .colab-df-convert:hover {\n",
              "      background-color: #E2EBFA;\n",
              "      box-shadow: 0px 1px 2px rgba(60, 64, 67, 0.3), 0px 1px 3px 1px rgba(60, 64, 67, 0.15);\n",
              "      fill: #174EA6;\n",
              "    }\n",
              "\n",
              "    [theme=dark] .colab-df-convert {\n",
              "      background-color: #3B4455;\n",
              "      fill: #D2E3FC;\n",
              "    }\n",
              "\n",
              "    [theme=dark] .colab-df-convert:hover {\n",
              "      background-color: #434B5C;\n",
              "      box-shadow: 0px 1px 3px 1px rgba(0, 0, 0, 0.15);\n",
              "      filter: drop-shadow(0px 1px 2px rgba(0, 0, 0, 0.3));\n",
              "      fill: #FFFFFF;\n",
              "    }\n",
              "  </style>\n",
              "\n",
              "      <script>\n",
              "        const buttonEl =\n",
              "          document.querySelector('#df-d994b60a-986d-453a-b3dd-405af9ae5e59 button.colab-df-convert');\n",
              "        buttonEl.style.display =\n",
              "          google.colab.kernel.accessAllowed ? 'block' : 'none';\n",
              "\n",
              "        async function convertToInteractive(key) {\n",
              "          const element = document.querySelector('#df-d994b60a-986d-453a-b3dd-405af9ae5e59');\n",
              "          const dataTable =\n",
              "            await google.colab.kernel.invokeFunction('convertToInteractive',\n",
              "                                                     [key], {});\n",
              "          if (!dataTable) return;\n",
              "\n",
              "          const docLinkHtml = 'Like what you see? Visit the ' +\n",
              "            '<a target=\"_blank\" href=https://colab.research.google.com/notebooks/data_table.ipynb>data table notebook</a>'\n",
              "            + ' to learn more about interactive tables.';\n",
              "          element.innerHTML = '';\n",
              "          dataTable['output_type'] = 'display_data';\n",
              "          await google.colab.output.renderOutput(dataTable, element);\n",
              "          const docLink = document.createElement('div');\n",
              "          docLink.innerHTML = docLinkHtml;\n",
              "          element.appendChild(docLink);\n",
              "        }\n",
              "      </script>\n",
              "    </div>\n",
              "  </div>\n",
              "  "
            ]
          },
          "metadata": {},
          "execution_count": 39
        },
        {
          "output_type": "display_data",
          "data": {
            "text/plain": [
              "<Figure size 432x288 with 2 Axes>"
            ],
            "image/png": "[encoded data removed]"
          },
          "metadata": {
            "needs_background": "light"
          }
        }
      ]
    },
    {
      "cell_type": "code",
      "source": [
        "types = ['Бензин', 'Дизель', 'Гибрид', 'Газ']\n",
        "#plt.scatter(df['Цена'], df['Мощность'], c = 'red')\n",
        "for Param in range(4):\n",
        "  plt.scatter(df.loc[df['Тип'] == types[Param] , 'Цена'], df.loc[df['Тип'] == types[Param] , 'Мощность'])"
      ],
      "metadata": {
        "colab": {
          "base_uri": "https://localhost:8080/",
          "height": 278
        },
        "id": "xO-ASnCybqO6",
        "outputId": "3ec8a272-0d19-4776-dbbe-4df2134ce61e"
      },
      "execution_count": null,
      "outputs": [
        {
          "output_type": "display_data",
          "data": {
            "text/plain": [
              "<Figure size 432x288 with 1 Axes>"
            ],
            "image/png": "[encoded data removed]"
          },
          "metadata": {
            "needs_background": "light"
          }
        }
      ]
    },
    {
      "cell_type": "code",
      "source": [
        "df['Тип'].unique"
      ],
      "metadata": {
        "id": "sgHy45ZNdG5W",
        "colab": {
          "base_uri": "https://localhost:8080/"
        },
        "outputId": "de36e993-43ef-43c3-c314-4d3087e920ad"
      },
      "execution_count": null,
      "outputs": [
        {
          "output_type": "execute_result",
          "data": {
            "text/plain": [
              "array(['Бензин', 'Дизель', 'Гибрид', 'Газ'], dtype=object)"
            ]
          },
          "metadata": {},
          "execution_count": 79
        }
      ]
    },
    {
      "cell_type": "code",
      "source": [],
      "metadata": {
        "id": "P80P5lGPI1-4"
      },
      "execution_count": null,
      "outputs": []
    }
  ]
}