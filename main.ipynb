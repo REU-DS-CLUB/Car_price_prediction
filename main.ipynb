{
 "cells": [
  {
   "cell_type": "code",
   "execution_count": 91,
   "metadata": {},
   "outputs": [],
   "source": [
    "# importing lib\n",
    "import pandas as pd \n",
    "import numpy as np \n",
    "import seaborn as sns"
   ]
  },
  {
   "cell_type": "code",
   "execution_count": 92,
   "metadata": {},
   "outputs": [],
   "source": [
    "df = pd.read_csv(\"auto_ru_res_test-Copy1.csv\")\n",
    "df.drop('url', axis=1, inplace=True)"
   ]
  },
  {
   "cell_type": "code",
   "execution_count": 93,
   "metadata": {},
   "outputs": [
    {
     "data": {
      "text/plain": [
       "car_mark           0\n",
       "Цена               0\n",
       "Год                0\n",
       "Пробег             0\n",
       "Двигатель          0\n",
       "Привод             0\n",
       "Кузов              0\n",
       "Цвет               0\n",
       "Коробка передач    0\n",
       "brand              0\n",
       "dtype: int64"
      ]
     },
     "execution_count": 93,
     "metadata": {},
     "output_type": "execute_result"
    }
   ],
   "source": [
    "df.isnull().sum()"
   ]
  },
  {
   "cell_type": "code",
   "execution_count": 94,
   "metadata": {},
   "outputs": [],
   "source": [
    "df['Цена'] = df['Цена'].str.replace('₽', '').str.replace('от ', '').str.replace('\\xa0', '').astype(int)\n",
    "df.rename(columns={'Цена': 'Цена, ₽'},inplace=True)\n",
    "df['Пробег'] = df['Пробег'].str.replace('км', '').str.replace('\\xa0', '').str.replace('Новый', '0').astype(int)\n",
    "df.rename(columns={'Пробег': 'Пробег, км'}, inplace=True)"
   ]
  },
  {
   "cell_type": "code",
   "execution_count": 95,
   "metadata": {},
   "outputs": [
    {
     "data": {
      "text/html": [
       "<div>\n",
       "<style scoped>\n",
       "    .dataframe tbody tr th:only-of-type {\n",
       "        vertical-align: middle;\n",
       "    }\n",
       "\n",
       "    .dataframe tbody tr th {\n",
       "        vertical-align: top;\n",
       "    }\n",
       "\n",
       "    .dataframe thead th {\n",
       "        text-align: right;\n",
       "    }\n",
       "</style>\n",
       "<table border=\"1\" class=\"dataframe\">\n",
       "  <thead>\n",
       "    <tr style=\"text-align: right;\">\n",
       "      <th></th>\n",
       "      <th>car_mark</th>\n",
       "      <th>Цена, ₽</th>\n",
       "      <th>Год</th>\n",
       "      <th>Пробег, км</th>\n",
       "      <th>Двигатель</th>\n",
       "      <th>Привод</th>\n",
       "      <th>Кузов</th>\n",
       "      <th>Цвет</th>\n",
       "      <th>Коробка передач</th>\n",
       "      <th>brand</th>\n",
       "    </tr>\n",
       "  </thead>\n",
       "  <tbody>\n",
       "    <tr>\n",
       "      <th>0</th>\n",
       "      <td>Acura MDX III</td>\n",
       "      <td>2450000</td>\n",
       "      <td>2014</td>\n",
       "      <td>219000</td>\n",
       "      <td>3.5 л / 290 л.с. / Бензин</td>\n",
       "      <td>полный</td>\n",
       "      <td>внедорожник 5 дв.</td>\n",
       "      <td>серый</td>\n",
       "      <td>автомат</td>\n",
       "      <td>Acura</td>\n",
       "    </tr>\n",
       "    <tr>\n",
       "      <th>1</th>\n",
       "      <td>Acura Integra III</td>\n",
       "      <td>1000000</td>\n",
       "      <td>1994</td>\n",
       "      <td>40000</td>\n",
       "      <td>1.8 л / 170 л.с. / Бензин</td>\n",
       "      <td>передний</td>\n",
       "      <td>купе</td>\n",
       "      <td>жёлтый</td>\n",
       "      <td>механика</td>\n",
       "      <td>Acura</td>\n",
       "    </tr>\n",
       "    <tr>\n",
       "      <th>2</th>\n",
       "      <td>Acura RDX III</td>\n",
       "      <td>3190000</td>\n",
       "      <td>2019</td>\n",
       "      <td>7000</td>\n",
       "      <td>2.0 л / 272 л.с. / Бензин</td>\n",
       "      <td>полный</td>\n",
       "      <td>внедорожник 5 дв.</td>\n",
       "      <td>серый</td>\n",
       "      <td>автомат</td>\n",
       "      <td>Acura</td>\n",
       "    </tr>\n",
       "    <tr>\n",
       "      <th>3</th>\n",
       "      <td>Acura MDX II</td>\n",
       "      <td>1050000</td>\n",
       "      <td>2006</td>\n",
       "      <td>220000</td>\n",
       "      <td>3.7 л / 300 л.с. / Бензин</td>\n",
       "      <td>полный</td>\n",
       "      <td>внедорожник 5 дв.</td>\n",
       "      <td>чёрный</td>\n",
       "      <td>автомат</td>\n",
       "      <td>Acura</td>\n",
       "    </tr>\n",
       "    <tr>\n",
       "      <th>4</th>\n",
       "      <td>Acura MDX III</td>\n",
       "      <td>3549807</td>\n",
       "      <td>2014</td>\n",
       "      <td>90500</td>\n",
       "      <td>3.5 л / 290 л.с. / Бензин</td>\n",
       "      <td>полный</td>\n",
       "      <td>внедорожник 5 дв.</td>\n",
       "      <td>чёрный</td>\n",
       "      <td>автомат</td>\n",
       "      <td>Acura</td>\n",
       "    </tr>\n",
       "    <tr>\n",
       "      <th>...</th>\n",
       "      <td>...</td>\n",
       "      <td>...</td>\n",
       "      <td>...</td>\n",
       "      <td>...</td>\n",
       "      <td>...</td>\n",
       "      <td>...</td>\n",
       "      <td>...</td>\n",
       "      <td>...</td>\n",
       "      <td>...</td>\n",
       "      <td>...</td>\n",
       "    </tr>\n",
       "    <tr>\n",
       "      <th>76084</th>\n",
       "      <td>УАЗ 3151 31519</td>\n",
       "      <td>190000</td>\n",
       "      <td>2001</td>\n",
       "      <td>200000</td>\n",
       "      <td>2.9 л / 84 л.с. / Бензин</td>\n",
       "      <td>полный</td>\n",
       "      <td>внедорожник 5 дв.</td>\n",
       "      <td>зелёный</td>\n",
       "      <td>механика</td>\n",
       "      <td>УАЗ</td>\n",
       "    </tr>\n",
       "    <tr>\n",
       "      <th>76085</th>\n",
       "      <td>УАЗ Hunter 315195</td>\n",
       "      <td>369000</td>\n",
       "      <td>2008</td>\n",
       "      <td>77000</td>\n",
       "      <td>2.7 л / 128 л.с. / Бензин</td>\n",
       "      <td>полный</td>\n",
       "      <td>внедорожник 5 дв.</td>\n",
       "      <td>чёрный</td>\n",
       "      <td>механика</td>\n",
       "      <td>УАЗ</td>\n",
       "    </tr>\n",
       "    <tr>\n",
       "      <th>76086</th>\n",
       "      <td>УАЗ 3151 31519</td>\n",
       "      <td>250000</td>\n",
       "      <td>2005</td>\n",
       "      <td>89000</td>\n",
       "      <td>2.9 л / 84 л.с. / Бензин</td>\n",
       "      <td>полный</td>\n",
       "      <td>внедорожник 5 дв.</td>\n",
       "      <td>серый</td>\n",
       "      <td>механика</td>\n",
       "      <td>УАЗ</td>\n",
       "    </tr>\n",
       "    <tr>\n",
       "      <th>76087</th>\n",
       "      <td>УАЗ Pickup I Рестайлинг 2</td>\n",
       "      <td>950000</td>\n",
       "      <td>2019</td>\n",
       "      <td>300000</td>\n",
       "      <td>2.7 л / 150 л.с. / Бензин</td>\n",
       "      <td>полный</td>\n",
       "      <td>пикап двойная кабина</td>\n",
       "      <td>белый</td>\n",
       "      <td>механика</td>\n",
       "      <td>УАЗ</td>\n",
       "    </tr>\n",
       "    <tr>\n",
       "      <th>76088</th>\n",
       "      <td>УАЗ Hunter 315195</td>\n",
       "      <td>330000</td>\n",
       "      <td>2004</td>\n",
       "      <td>105682</td>\n",
       "      <td>2.7 л / 128 л.с. / Бензин</td>\n",
       "      <td>полный</td>\n",
       "      <td>внедорожник 5 дв.</td>\n",
       "      <td>зелёный</td>\n",
       "      <td>механика</td>\n",
       "      <td>УАЗ</td>\n",
       "    </tr>\n",
       "  </tbody>\n",
       "</table>\n",
       "<p>76089 rows × 10 columns</p>\n",
       "</div>"
      ],
      "text/plain": [
       "                        car_mark  Цена, ₽   Год  Пробег, км  \\\n",
       "0                  Acura MDX III  2450000  2014      219000   \n",
       "1              Acura Integra III  1000000  1994       40000   \n",
       "2                  Acura RDX III  3190000  2019        7000   \n",
       "3                   Acura MDX II  1050000  2006      220000   \n",
       "4                  Acura MDX III  3549807  2014       90500   \n",
       "...                          ...      ...   ...         ...   \n",
       "76084             УАЗ 3151 31519   190000  2001      200000   \n",
       "76085          УАЗ Hunter 315195   369000  2008       77000   \n",
       "76086             УАЗ 3151 31519   250000  2005       89000   \n",
       "76087  УАЗ Pickup I Рестайлинг 2   950000  2019      300000   \n",
       "76088          УАЗ Hunter 315195   330000  2004      105682   \n",
       "\n",
       "                       Двигатель    Привод                 Кузов     Цвет  \\\n",
       "0      3.5 л / 290 л.с. / Бензин    полный     внедорожник 5 дв.    серый   \n",
       "1      1.8 л / 170 л.с. / Бензин  передний                  купе   жёлтый   \n",
       "2      2.0 л / 272 л.с. / Бензин    полный     внедорожник 5 дв.    серый   \n",
       "3      3.7 л / 300 л.с. / Бензин    полный     внедорожник 5 дв.   чёрный   \n",
       "4      3.5 л / 290 л.с. / Бензин    полный     внедорожник 5 дв.   чёрный   \n",
       "...                          ...       ...                   ...      ...   \n",
       "76084   2.9 л / 84 л.с. / Бензин    полный     внедорожник 5 дв.  зелёный   \n",
       "76085  2.7 л / 128 л.с. / Бензин    полный     внедорожник 5 дв.   чёрный   \n",
       "76086   2.9 л / 84 л.с. / Бензин    полный     внедорожник 5 дв.    серый   \n",
       "76087  2.7 л / 150 л.с. / Бензин    полный  пикап двойная кабина    белый   \n",
       "76088  2.7 л / 128 л.с. / Бензин    полный     внедорожник 5 дв.  зелёный   \n",
       "\n",
       "      Коробка передач  brand  \n",
       "0             автомат  Acura  \n",
       "1            механика  Acura  \n",
       "2             автомат  Acura  \n",
       "3             автомат  Acura  \n",
       "4             автомат  Acura  \n",
       "...               ...    ...  \n",
       "76084        механика    УАЗ  \n",
       "76085        механика    УАЗ  \n",
       "76086        механика    УАЗ  \n",
       "76087        механика    УАЗ  \n",
       "76088        механика    УАЗ  \n",
       "\n",
       "[76089 rows x 10 columns]"
      ]
     },
     "execution_count": 95,
     "metadata": {},
     "output_type": "execute_result"
    }
   ],
   "source": [
    "df"
   ]
  },
  {
   "cell_type": "code",
   "execution_count": 110,
   "metadata": {},
   "outputs": [
    {
     "data": {
      "text/plain": [
       "0        3.5\n",
       "1        1.8\n",
       "2        2.0\n",
       "3        3.7\n",
       "4        3.5\n",
       "        ... \n",
       "76084    2.9\n",
       "76085    2.7\n",
       "76086    2.9\n",
       "76087    2.7\n",
       "76088    2.7\n",
       "Name: Объем, Length: 76089, dtype: object"
      ]
     },
     "execution_count": 110,
     "metadata": {},
     "output_type": "execute_result"
    }
   ],
   "source": [
    "# У двигателя есть объем мощность и тип\n",
    "s = df['Двигатель']\n",
    "s = pd.DataFrame(s.str.split('/', expand=True).values, columns=['Объем', 'Мощность', 'Тип'])\n",
    "\n",
    "s['Объем'] = s['Объем'].str.replace(' л\\u2009', '')\n",
    "s['Объем']"
   ]
  },
  {
   "cell_type": "code",
   "execution_count": 97,
   "metadata": {},
   "outputs": [],
   "source": [
    "df_num = df.select_dtypes(include=np.number)"
   ]
  },
  {
   "cell_type": "code",
   "execution_count": 99,
   "metadata": {},
   "outputs": [
    {
     "data": {
      "text/plain": [
       "<AxesSubplot:>"
      ]
     },
     "execution_count": 99,
     "metadata": {},
     "output_type": "execute_result"
    },
    {
     "data": {
      "image/png": "[encoded data removed]",
      "text/plain": [
       "<Figure size 432x288 with 2 Axes>"
      ]
     },
     "metadata": {
      "needs_background": "light"
     },
     "output_type": "display_data"
    }
   ],
   "source": [
    "sns.heatmap(df.corr(), annot=True, fmt='.2f')"
   ]
  },
  {
   "cell_type": "code",
   "execution_count": null,
   "metadata": {},
   "outputs": [],
   "source": []
  },
  {
   "cell_type": "code",
   "execution_count": null,
   "metadata": {},
   "outputs": [],
   "source": []
  }
 ],
 "metadata": {
  "kernelspec": {
   "display_name": "Python 3 (ipykernel)",
   "language": "python",
   "name": "python3"
  },
  "language_info": {
   "codemirror_mode": {
    "name": "ipython",
    "version": 3
   },
   "file_extension": ".py",
   "mimetype": "text/x-python",
   "name": "python",
   "nbconvert_exporter": "python",
   "pygments_lexer": "ipython3",
   "version": "3.9.7"
  },
  "vscode": {
   "interpreter": {
    "hash": "aee8b7b246df8f9039afb4144a1f6fd8d2ca17a180786b69acc140d282b71a49"
   }
  }
 },
 "nbformat": 4,
 "nbformat_minor": 2
}
